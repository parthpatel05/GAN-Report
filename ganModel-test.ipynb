{
 "cells": [
  {
   "cell_type": "code",
   "execution_count": 10,
   "metadata": {},
   "outputs": [],
   "source": [
    "import torch\n",
    "import torch.nn as nn\n",
    "import torch.optim as optim\n",
    "import torchvision\n",
    "import torchvision.transforms as transforms\n",
    "from torchvision.utils import make_grid\n",
    "import matplotlib.pyplot as plt\n",
    "\n",
    "# Parameters\n",
    "batch_size = 64\n",
    "image_size = 28 * 28  # MNIST images are 28x28\n",
    "latent_dim = 100      # Dimensionality of the noise input to generator\n",
    "epochs = 30\n",
    "learning_rate = 0.0002"
   ]
  },
  {
   "cell_type": "code",
   "execution_count": 11,
   "metadata": {},
   "outputs": [],
   "source": [
    "# Load MNIST dataset\n",
    "transform = transforms.Compose([\n",
    "    transforms.ToTensor(),\n",
    "    transforms.Normalize([0.5], [0.5])  # Normalize between -1 and 1\n",
    "])\n",
    "\n",
    "train_loader = torch.utils.data.DataLoader(\n",
    "    torchvision.datasets.MNIST(root='./data', train=True, transform=transform, download=True),\n",
    "    batch_size=batch_size, shuffle=True\n",
    ")"
   ]
  },
  {
   "cell_type": "code",
   "execution_count": 12,
   "metadata": {},
   "outputs": [],
   "source": [
    "# Generator network\n",
    "class Generator(nn.Module):\n",
    "    def __init__(self):\n",
    "        super(Generator, self).__init__()\n",
    "        self.model = nn.Sequential(\n",
    "            nn.Linear(latent_dim, 256),\n",
    "            nn.LeakyReLU(0.2),\n",
    "            nn.Linear(256, 512),\n",
    "            nn.LeakyReLU(0.2),\n",
    "            nn.Linear(512, 1024),\n",
    "            nn.LeakyReLU(0.2),\n",
    "            nn.Linear(1024, image_size),\n",
    "            nn.Tanh()\n",
    "        )\n",
    "\n",
    "    def forward(self, x):\n",
    "        return self.model(x)\n",
    "\n",
    "# Discriminator network\n",
    "class Discriminator(nn.Module):\n",
    "    def __init__(self):\n",
    "        super(Discriminator, self).__init__()\n",
    "        self.model = nn.Sequential(\n",
    "            nn.Linear(image_size, 1024),\n",
    "            nn.LeakyReLU(0.2),\n",
    "            nn.Dropout(0.3),\n",
    "            nn.Linear(1024, 512),\n",
    "            nn.LeakyReLU(0.2),\n",
    "            nn.Dropout(0.3),\n",
    "            nn.Linear(512, 256),\n",
    "            nn.LeakyReLU(0.2),\n",
    "            nn.Dropout(0.3),\n",
    "            nn.Linear(256, 1),\n",
    "            nn.Sigmoid()\n",
    "        )\n",
    "\n",
    "    def forward(self, x):\n",
    "        return self.model(x)"
   ]
  },
  {
   "cell_type": "code",
   "execution_count": 13,
   "metadata": {},
   "outputs": [],
   "source": [
    "# Initialize networks and optimizer\n",
    "device = torch.device(\"cuda\" if torch.cuda.is_available() else \"cpu\")\n",
    "generator = Generator().to(device)\n",
    "discriminator = Discriminator().to(device)\n",
    "\n",
    "criterion = nn.BCELoss()\n",
    "optimizer_G = optim.Adam(generator.parameters(), lr=learning_rate)\n",
    "optimizer_D = optim.Adam(discriminator.parameters(), lr=learning_rate)"
   ]
  },
  {
   "cell_type": "code",
   "execution_count": 14,
   "metadata": {},
   "outputs": [
    {
     "name": "stdout",
     "output_type": "stream",
     "text": [
      "Epoch [1/30], D Loss: 0.0009, G Loss: 13.7337\n",
      "Epoch [2/30], D Loss: 0.0001, G Loss: 17.5043\n",
      "Epoch [3/30], D Loss: 0.0000, G Loss: 17.3355\n",
      "Epoch [4/30], D Loss: 0.0000, G Loss: 23.3196\n",
      "Epoch [5/30], D Loss: 0.0000, G Loss: 25.4329\n",
      "Epoch [6/30], D Loss: 0.0000, G Loss: 27.6730\n",
      "Epoch [7/30], D Loss: 0.0000, G Loss: 29.3485\n",
      "Epoch [8/30], D Loss: 0.0000, G Loss: 31.9470\n",
      "Epoch [9/30], D Loss: 0.0000, G Loss: 30.2269\n",
      "Epoch [10/30], D Loss: 0.0000, G Loss: 38.5245\n",
      "Epoch [11/30], D Loss: 0.0000, G Loss: 36.0463\n",
      "Epoch [12/30], D Loss: 0.0000, G Loss: 37.8004\n",
      "Epoch [13/30], D Loss: 0.0000, G Loss: 37.8290\n",
      "Epoch [14/30], D Loss: 0.0000, G Loss: 37.3144\n",
      "Epoch [15/30], D Loss: 0.0000, G Loss: 35.3245\n",
      "Epoch [16/30], D Loss: 0.0000, G Loss: 38.2161\n",
      "Epoch [17/30], D Loss: 0.0000, G Loss: 59.9284\n",
      "Epoch [18/30], D Loss: 0.0000, G Loss: 59.5209\n",
      "Epoch [19/30], D Loss: 0.0000, G Loss: 55.9863\n",
      "Epoch [20/30], D Loss: 0.0000, G Loss: 55.2268\n",
      "Epoch [21/30], D Loss: 0.0000, G Loss: 51.1350\n",
      "Epoch [22/30], D Loss: 0.0000, G Loss: 53.1596\n",
      "Epoch [23/30], D Loss: 0.0000, G Loss: 50.7174\n",
      "Epoch [24/30], D Loss: 0.0000, G Loss: 49.3703\n",
      "Epoch [25/30], D Loss: 0.0000, G Loss: 51.4770\n",
      "Epoch [26/30], D Loss: 0.0000, G Loss: 49.7690\n",
      "Epoch [27/30], D Loss: 0.0000, G Loss: 69.4814\n",
      "Epoch [28/30], D Loss: 0.0000, G Loss: 64.6522\n",
      "Epoch [29/30], D Loss: 0.0000, G Loss: 62.3446\n",
      "Epoch [30/30], D Loss: 0.0000, G Loss: 68.4845\n"
     ]
    }
   ],
   "source": [
    "\n",
    "# Training\n",
    "for epoch in range(epochs):\n",
    "    for i, (real_images, _) in enumerate(train_loader):\n",
    "        real_images = real_images.view(-1, image_size).to(device)\n",
    "        batch_size = real_images.size(0)\n",
    "\n",
    "        # Labels for real and fake images\n",
    "        real_labels = torch.ones(batch_size, 1).to(device)\n",
    "        fake_labels = torch.zeros(batch_size, 1).to(device)\n",
    "\n",
    "        # Train Discriminator\n",
    "        optimizer_D.zero_grad()\n",
    "        outputs = discriminator(real_images)\n",
    "        d_loss_real = criterion(outputs, real_labels)\n",
    "        \n",
    "        noise = torch.randn(batch_size, latent_dim).to(device)\n",
    "        fake_images = generator(noise)\n",
    "        outputs = discriminator(fake_images.detach())\n",
    "        d_loss_fake = criterion(outputs, fake_labels)\n",
    "        \n",
    "        d_loss = d_loss_real + d_loss_fake\n",
    "        d_loss.backward()\n",
    "        optimizer_D.step()\n",
    "\n",
    "        # Train Generator\n",
    "        optimizer_G.zero_grad()\n",
    "        # # /\n",
    "        gen_images = generator(noise)\n",
    "        outputs = discriminator(gen_images)\n",
    "        # # /\n",
    "        # outputs = discriminator(fake_images)\n",
    "        g_loss = criterion(outputs, real_labels)\n",
    "        g_loss.backward()\n",
    "        optimizer_G.step()\n",
    "\n",
    "    print(f\"Epoch [{epoch+1}/{epochs}], D Loss: {d_loss.item():.4f}, G Loss: {g_loss.item():.4f}\")\n",
    "\n",
    "\n"
   ]
  },
  {
   "cell_type": "code",
   "execution_count": 15,
   "metadata": {},
   "outputs": [
    {
     "data": {
      "image/png": "[encoded data removed]",
      "text/plain": [
       "<Figure size 600x600 with 1 Axes>"
      ]
     },
     "metadata": {},
     "output_type": "display_data"
    }
   ],
   "source": [
    "# Generate some images\n",
    "noise = torch.randn(16, latent_dim).to(device)\n",
    "generated_images = generator(noise).view(-1, 1, 28, 28).cpu().detach()\n",
    "grid = make_grid(generated_images, nrow=4, normalize=True)\n",
    "\n",
    "plt.figure(figsize=(6, 6))\n",
    "plt.imshow(grid.permute(1, 2, 0).squeeze(), cmap='gray')\n",
    "plt.show()"
   ]
  },
  {
   "cell_type": "code",
   "execution_count": null,
   "metadata": {},
   "outputs": [],
   "source": []
  }
 ],
 "metadata": {
  "kernelspec": {
   "display_name": "Python 3",
   "language": "python",
   "name": "python3"
  },
  "language_info": {
   "codemirror_mode": {
    "name": "ipython",
    "version": 3
   },
   "file_extension": ".py",
   "mimetype": "text/x-python",
   "name": "python",
   "nbconvert_exporter": "python",
   "pygments_lexer": "ipython3",
   "version": "3.11.9"
  }
 },
 "nbformat": 4,
 "nbformat_minor": 2
}
